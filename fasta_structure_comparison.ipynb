{
 "cells": [
  {
   "cell_type": "code",
   "execution_count": 51,
   "metadata": {
    "scrolled": false
   },
   "outputs": [
    {
     "name": "stdout",
     "output_type": "stream",
     "text": [
      "Total amino acid residues in protein == 318\n",
      "81 [3, 3, 2, 3, 2, 2, 2, 2, 3, 3, 2, 3, 2, 2, 2, 2] [3, 2, 3, 2]\n"
     ]
    },
    {
     "data": {
      "image/png": "[encoded data removed]",
      "text/plain": [
       "<Figure size 432x288 with 1 Axes>"
      ]
     },
     "metadata": {
      "needs_background": "light"
     },
     "output_type": "display_data"
    }
   ],
   "source": [
    "import pandas as pd\n",
    "import numpy as np\n",
    "import matplotlib.pyplot as plt\n",
    "picture=\"Ddx4_pdb\"\n",
    "pdb=pd.read_csv('Ddx4_protein_modified.pdb',engine='python',skiprows=1,header=None,skipfooter=1,delim_whitespace=True,names=['a','b','c','res','e','f','g','h','i','j','k','l'])\n",
    "sec_st=pd.read_csv('Ddx4_protein_sec_st.dat',skiprows=9,header=None,names=['atomno.','chain','ref','residue','structure'],delimiter=' ')\n",
    "aa=pdb['res']\n",
    "resno=pdb['f']\n",
    "k=sec_st['structure']\n",
    "countpdb=pdb.shape[0]\n",
    "countsecst=sec_st.shape[0]\n",
    "print(\"Total amino acid residues in protein == %d\"%(countsecst))\n",
    "ii=0\n",
    "jj=1\n",
    "ix=0\n",
    "aminoacid=[]\n",
    "while ii<countpdb-1:\n",
    "    if resno[jj]!=resno[ii]:\n",
    "        aminoacid.append(aa[ii])\n",
    "    ii+=1\n",
    "    jj+=1\n",
    "aminoacid.append(aa[ii])\n",
    "\n",
    "###Saving the dat file with amino acid and structure\n",
    "newdf=pd.DataFrame(aminoacid,k)\n",
    "newdf.to_csv(picture+\".dat\")\n",
    "#################################################\n",
    "\n",
    "ax=0\n",
    "name1='LYS'\n",
    "name2='ARG'\n",
    "name3='GLU'\n",
    "name4='ASP'\n",
    "namex=['LYS','ARG','GLU','ARG']\n",
    "namey= ['LYS','ARG','GLU','ARG','HIS']\n",
    "##Counting total charged residues in the protein####\n",
    "chcount=0\n",
    "m2=0\n",
    "while m2<countsecst-1:\n",
    "    if aminoacid[m2] in namey:\n",
    "        chcount+=1\n",
    "    m2+=1\n",
    "#print('Total chargesd residues are: %d'%(chcount))\n",
    "#################################################\n",
    "\n",
    "##Counting number of Charged amino acids occuring together\n",
    "m3=0\n",
    "zz=[]\n",
    "while m3<countsecst:\n",
    "    q=1\n",
    "    while m3<countsecst-1:\n",
    "        if aminoacid[m3] in namey and aminoacid[m3+1] in namey:\n",
    "            q+=1\n",
    "            #print(m3,m3+1)\n",
    "        else:\n",
    "            break\n",
    "        m3+=1\n",
    "    if q!=1:\n",
    "        zz.append(q)\n",
    "    m3+=1\n",
    "\n",
    "##########################################################\n",
    "\n",
    "##Couting number of charged amino acids occuring together and are helix\n",
    "m1=0\n",
    "xx=[]\n",
    "while m1<countsecst:\n",
    "        p=1\n",
    "        while m1<countsecst-1:\n",
    "            if k[m1]=='H' and k[m1+1]=='H' and aminoacid[m1] in namex and aminoacid[m1+1] in namex:\n",
    "                p+=1\n",
    "                #print(m1,m1+1)\n",
    "            else:\n",
    "                break\n",
    "            m1+=1\n",
    "        ##print(p)\n",
    "        if p!=1:\n",
    "            xx.append(p)\n",
    "        m1+=1\n",
    "####################################################\n",
    "print(chcount,zz,xx)\n",
    "#####Plotting the histogram#####\n",
    "colors = ['b','r']\n",
    "plt.hist([xx, zz], label=['Charged residues in helix', 'Charged residures'],color=colors)\n",
    "plt.legend(loc='upper left')\n",
    "#plt.hist(xx, bins=10)\n",
    "#plt.hist(zz, bins=10)\n",
    "plt.xticks(np.arange(0, 5, 1), fontfamily='sans-serif',fontsize=8) \n",
    "plt.savefig(picture+\".png\",dpi=300)"
   ]
  },
  {
   "cell_type": "code",
   "execution_count": 45,
   "metadata": {},
   "outputs": [
    {
     "data": {
      "image/png": "[encoded data removed]",
      "text/plain": [
       "<Figure size 432x288 with 1 Axes>"
      ]
     },
     "metadata": {
      "needs_background": "light"
     },
     "output_type": "display_data"
    }
   ],
   "source": [
    "import matplotlib.pyplot as plt\n",
    "XX\n",
    "YY=[1,1,1,2,2,3,3,3,3,3,4,4,4,4,4,4,4]\n",
    "gp= plt.hist(YY, bins=15) "
   ]
  },
  {
   "cell_type": "code",
   "execution_count": 1,
   "metadata": {},
   "outputs": [
    {
     "name": "stdout",
     "output_type": "stream",
     "text": [
      "yes\n"
     ]
    }
   ],
   "source": [
    "namex=['LYS','ARG','GLU','ARG']\n",
    "if 'ARG' in namex:\n",
    "    print('yes')"
   ]
  },
  {
   "cell_type": "code",
   "execution_count": 2,
   "metadata": {},
   "outputs": [
    {
     "ename": "ModuleNotFoundError",
     "evalue": "No module named 'pystride'",
     "output_type": "error",
     "traceback": [
      "\u001b[1;31m--------------------------------------------------\u001b[0m",
      "\u001b[1;31mModuleNotFoundError\u001b[0mTraceback (most recent call last)",
      "\u001b[1;32m<ipython-input-2-2ae840bfbdda>\u001b[0m in \u001b[0;36m<module>\u001b[1;34m\u001b[0m\n\u001b[1;32m----> 1\u001b[1;33m \u001b[1;32mimport\u001b[0m \u001b[0mpystride\u001b[0m\u001b[1;33m\u001b[0m\u001b[1;33m\u001b[0m\u001b[0m\n\u001b[0m",
      "\u001b[1;31mModuleNotFoundError\u001b[0m: No module named 'pystride'"
     ]
    }
   ],
   "source": [
    "import pystride"
   ]
  },
  {
   "cell_type": "code",
   "execution_count": 3,
   "metadata": {},
   "outputs": [
    {
     "name": "stdout",
     "output_type": "stream",
     "text": [
      "^C\n",
      "\n",
      "Note: you may need to restart the kernel to use updated packages.\n"
     ]
    }
   ],
   "source": [
    "conda install pustride"
   ]
  },
  {
   "cell_type": "code",
   "execution_count": null,
   "metadata": {},
   "outputs": [],
   "source": []
  }
 ],
 "metadata": {
  "kernelspec": {
   "display_name": "Python 3",
   "language": "python",
   "name": "python3"
  },
  "language_info": {
   "codemirror_mode": {
    "name": "ipython",
    "version": 3
   },
   "file_extension": ".py",
   "mimetype": "text/x-python",
   "name": "python",
   "nbconvert_exporter": "python",
   "pygments_lexer": "ipython3",
   "version": "3.7.4"
  }
 },
 "nbformat": 4,
 "nbformat_minor": 2
}
